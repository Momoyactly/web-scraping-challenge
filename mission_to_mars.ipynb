{
 "metadata": {
  "language_info": {
   "codemirror_mode": {
    "name": "ipython",
    "version": 3
   },
   "file_extension": ".py",
   "mimetype": "text/x-python",
   "name": "python",
   "nbconvert_exporter": "python",
   "pygments_lexer": "ipython3",
   "version": "3.9.5"
  },
  "orig_nbformat": 2,
  "kernelspec": {
   "name": "python3",
   "display_name": "Python 3.9.5 64-bit (windows store)"
  },
  "metadata": {
   "interpreter": {
    "hash": "5ec163784780f38a10568fd93fd8a2682c3b6d51a0aaa15b2fdb0bcd1d71007c"
   }
  },
  "interpreter": {
   "hash": "12c1beabcd82b14a86e39bcef665616d7c536848627cd751b6f4e35cbe756a44"
  }
 },
 "nbformat": 4,
 "nbformat_minor": 2,
 "cells": [
  {
   "cell_type": "code",
   "execution_count": 3,
   "metadata": {},
   "outputs": [],
   "source": [
    "from splinter import Browser\n",
    "from bs4 import BeautifulSoup\n",
    "from webdriver_manager.chrome import ChromeDriverManager\n",
    "import pandas as pd"
   ]
  },
  {
   "cell_type": "code",
   "execution_count": 3,
   "metadata": {},
   "outputs": [
    {
     "output_type": "stream",
     "name": "stderr",
     "text": [
      "\n",
      "\n",
      "====== WebDriver manager ======\n",
      "Current google-chrome version is 91.0.4472\n",
      "Get LATEST driver version for 91.0.4472\n",
      "Driver [C:\\Users\\pumas\\.wdm\\drivers\\chromedriver\\win32\\91.0.4472.101\\chromedriver.exe] found in cache\n"
     ]
    }
   ],
   "source": [
    "# Setup splinter\n",
    "executable_path = {'executable_path': ChromeDriverManager().install()}\n",
    "browser = Browser('chrome', **executable_path, headless=False)\n"
   ]
  },
  {
   "cell_type": "code",
   "execution_count": 6,
   "metadata": {},
   "outputs": [],
   "source": [
    "url = 'https://redplanetscience.com/'\n",
    "browser.visit(url)\n",
    "html = browser.html"
   ]
  },
  {
   "cell_type": "code",
   "execution_count": 30,
   "metadata": {},
   "outputs": [],
   "source": [
    "soup = BeautifulSoup(html, 'html.parser')\n",
    "news_soup = soup.find_all('section', class_='image_and_description_container')"
   ]
  },
  {
   "cell_type": "code",
   "execution_count": 33,
   "metadata": {},
   "outputs": [],
   "source": [
    "nr = news_soup[0].find('div',class_='col-md-8')\n",
    "news ={'title':nr.find_all('div',class_='content_title')[0].text,\\\n",
    "        'p':nr.find_all('div',class_='article_teaser_body')[0].text}"
   ]
  },
  {
   "cell_type": "code",
   "execution_count": 48,
   "metadata": {},
   "outputs": [],
   "source": [
    "url = 'https://spaceimages-mars.com/'\n",
    "browser.visit(url)\n",
    "html = browser.html"
   ]
  },
  {
   "cell_type": "code",
   "execution_count": 49,
   "metadata": {},
   "outputs": [],
   "source": [
    "soup = BeautifulSoup(html, 'html.parser')\n",
    "header_soup = soup.find('div', class_='header')"
   ]
  },
  {
   "cell_type": "code",
   "execution_count": 52,
   "metadata": {},
   "outputs": [],
   "source": [
    "featured_image_url = url+header_soup.find('img',class_='headerimage')['src']"
   ]
  },
  {
   "cell_type": "code",
   "execution_count": 53,
   "metadata": {},
   "outputs": [
    {
     "output_type": "execute_result",
     "data": {
      "text/plain": [
       "'https://spaceimages-mars.com/image/featured/mars2.jpg'"
      ]
     },
     "metadata": {},
     "execution_count": 53
    }
   ],
   "source": [
    "featured_image_url"
   ]
  },
  {
   "cell_type": "code",
   "execution_count": 4,
   "metadata": {},
   "outputs": [],
   "source": [
    "url = 'https://galaxyfacts-mars.com/'\n",
    "tables = pd.read_html(url)"
   ]
  },
  {
   "cell_type": "code",
   "execution_count": 22,
   "metadata": {},
   "outputs": [
    {
     "output_type": "execute_result",
     "data": {
      "text/plain": [
       "[['Mars - Earth Comparison', 'Mars', 'Earth'],\n",
       " ['Diameter:', '6,779 km', '12,742 km'],\n",
       " ['Mass:', '6.39 × 10^23 kg', '5.97 × 10^24 kg'],\n",
       " ['Moons:', '2', '1'],\n",
       " ['Distance from Sun:', '227,943,824 km', '149,598,262 km'],\n",
       " ['Length of Year:', '687 Earth days', '365.24 days'],\n",
       " ['Temperature:', '-87 to -5 °C', '-88 to 58°C']]"
      ]
     },
     "metadata": {},
     "execution_count": 22
    }
   ],
   "source": [
    "df = tables[0]\n",
    "df.columns = df.iloc[0]\n",
    "table_data = df.values.tolist()\n",
    "table_data"
   ]
  },
  {
   "cell_type": "code",
   "execution_count": 33,
   "metadata": {},
   "outputs": [],
   "source": [
    "url = 'https://marshemispheres.com/'\n",
    "browser.visit(url)\n",
    "html = browser.html"
   ]
  },
  {
   "cell_type": "code",
   "execution_count": 38,
   "metadata": {},
   "outputs": [
    {
     "output_type": "execute_result",
     "data": {
      "text/plain": [
       "[{'Title': 'Cerberus Hemisphere',\n",
       "  'Src': 'https://marshemispheres.com/images/full.jpg'},\n",
       " {'Title': 'Schiaparelli Hemisphere',\n",
       "  'Src': 'https://marshemispheres.com/images/schiaparelli_enhanced-full.jpg'},\n",
       " {'Title': 'Syrtis Major Hemisphere',\n",
       "  'Src': 'https://marshemispheres.com/images/syrtis_major_enhanced-full.jpg'},\n",
       " {'Title': 'Valles Marineris Hemisphere',\n",
       "  'Src': 'https://marshemispheres.com/images/valles_marineris_enhanced-full.jpg'}]"
      ]
     },
     "metadata": {},
     "execution_count": 38
    }
   ],
   "source": [
    "soup = BeautifulSoup(html, 'html.parser')\n",
    "hemisphere_image_urls = []\n",
    "for i in soup.find_all('div', class_='item'):\n",
    "    href = i.find('a')['href']\n",
    "    browser.visit(url+href)\n",
    "    html_l2 = browser.html\n",
    "    soup_l2 = BeautifulSoup(html_l2, 'html.parser')\n",
    "    cover_soup = soup_l2.find('div',class_='cover')\n",
    "    h2 = cover_soup.find('h2',class_='title').text\n",
    "    dw_soup = soup_l2.find('div',class_='downloads')\n",
    "    a  = dw_soup.find('a')['href']\n",
    "    hemisphere_image_urls.append({'Title':' '.join(h2.split(' ')[:-1]),\\\n",
    "        'Src':url+a})\n",
    "hemisphere_image_urls\n"
   ]
  },
  {
   "cell_type": "code",
   "execution_count": null,
   "metadata": {},
   "outputs": [],
   "source": []
  }
 ]
}